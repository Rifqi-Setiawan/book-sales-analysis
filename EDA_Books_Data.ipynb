{
 "cells": [
  {
   "cell_type": "code",
   "execution_count": 1,
   "id": "e742847b",
   "metadata": {},
   "outputs": [],
   "source": [
    "import pandas as pd\n",
    "import matplotlib.pyplot as plt\n",
    "import seaborn as sns"
   ]
  },
  {
   "cell_type": "code",
   "execution_count": 3,
   "id": "c6b797ff",
   "metadata": {},
   "outputs": [],
   "source": [
    "df = pd.read_csv('Books_Data_Clean.csv')"
   ]
  },
  {
   "cell_type": "code",
   "execution_count": 4,
   "id": "a1fc7c42",
   "metadata": {},
   "outputs": [
    {
     "data": {
      "text/html": [
       "<div>\n",
       "<style scoped>\n",
       "    .dataframe tbody tr th:only-of-type {\n",
       "        vertical-align: middle;\n",
       "    }\n",
       "\n",
       "    .dataframe tbody tr th {\n",
       "        vertical-align: top;\n",
       "    }\n",
       "\n",
       "    .dataframe thead th {\n",
       "        text-align: right;\n",
       "    }\n",
       "</style>\n",
       "<table border=\"1\" class=\"dataframe\">\n",
       "  <thead>\n",
       "    <tr style=\"text-align: right;\">\n",
       "      <th></th>\n",
       "      <th>index</th>\n",
       "      <th>Publishing Year</th>\n",
       "      <th>Book Name</th>\n",
       "      <th>Author</th>\n",
       "      <th>language_code</th>\n",
       "      <th>Author_Rating</th>\n",
       "      <th>Book_average_rating</th>\n",
       "      <th>Book_ratings_count</th>\n",
       "      <th>genre</th>\n",
       "      <th>gross sales</th>\n",
       "      <th>publisher revenue</th>\n",
       "      <th>sale price</th>\n",
       "      <th>sales rank</th>\n",
       "      <th>Publisher</th>\n",
       "      <th>units sold</th>\n",
       "    </tr>\n",
       "  </thead>\n",
       "  <tbody>\n",
       "    <tr>\n",
       "      <th>0</th>\n",
       "      <td>0</td>\n",
       "      <td>1975.0</td>\n",
       "      <td>Beowulf</td>\n",
       "      <td>Unknown, Seamus Heaney</td>\n",
       "      <td>en-US</td>\n",
       "      <td>Novice</td>\n",
       "      <td>3.42</td>\n",
       "      <td>155903</td>\n",
       "      <td>genre fiction</td>\n",
       "      <td>34160.0</td>\n",
       "      <td>20496.0</td>\n",
       "      <td>4.88</td>\n",
       "      <td>1</td>\n",
       "      <td>HarperCollins Publishers</td>\n",
       "      <td>7000</td>\n",
       "    </tr>\n",
       "    <tr>\n",
       "      <th>1</th>\n",
       "      <td>1</td>\n",
       "      <td>1987.0</td>\n",
       "      <td>Batman: Year One</td>\n",
       "      <td>Frank Miller, David Mazzucchelli, Richmond Lew...</td>\n",
       "      <td>eng</td>\n",
       "      <td>Intermediate</td>\n",
       "      <td>4.23</td>\n",
       "      <td>145267</td>\n",
       "      <td>genre fiction</td>\n",
       "      <td>12437.5</td>\n",
       "      <td>7462.5</td>\n",
       "      <td>1.99</td>\n",
       "      <td>2</td>\n",
       "      <td>HarperCollins Publishers</td>\n",
       "      <td>6250</td>\n",
       "    </tr>\n",
       "    <tr>\n",
       "      <th>2</th>\n",
       "      <td>2</td>\n",
       "      <td>2015.0</td>\n",
       "      <td>Go Set a Watchman</td>\n",
       "      <td>Harper Lee</td>\n",
       "      <td>eng</td>\n",
       "      <td>Novice</td>\n",
       "      <td>3.31</td>\n",
       "      <td>138669</td>\n",
       "      <td>genre fiction</td>\n",
       "      <td>47795.0</td>\n",
       "      <td>28677.0</td>\n",
       "      <td>8.69</td>\n",
       "      <td>3</td>\n",
       "      <td>Amazon Digital Services,  Inc.</td>\n",
       "      <td>5500</td>\n",
       "    </tr>\n",
       "    <tr>\n",
       "      <th>3</th>\n",
       "      <td>3</td>\n",
       "      <td>2008.0</td>\n",
       "      <td>When You Are Engulfed in Flames</td>\n",
       "      <td>David Sedaris</td>\n",
       "      <td>en-US</td>\n",
       "      <td>Intermediate</td>\n",
       "      <td>4.04</td>\n",
       "      <td>150898</td>\n",
       "      <td>fiction</td>\n",
       "      <td>41250.0</td>\n",
       "      <td>24750.0</td>\n",
       "      <td>7.50</td>\n",
       "      <td>3</td>\n",
       "      <td>Hachette Book Group</td>\n",
       "      <td>5500</td>\n",
       "    </tr>\n",
       "    <tr>\n",
       "      <th>4</th>\n",
       "      <td>4</td>\n",
       "      <td>2011.0</td>\n",
       "      <td>Daughter of Smoke &amp; Bone</td>\n",
       "      <td>Laini Taylor</td>\n",
       "      <td>eng</td>\n",
       "      <td>Intermediate</td>\n",
       "      <td>4.04</td>\n",
       "      <td>198283</td>\n",
       "      <td>genre fiction</td>\n",
       "      <td>37952.5</td>\n",
       "      <td>22771.5</td>\n",
       "      <td>7.99</td>\n",
       "      <td>4</td>\n",
       "      <td>Penguin Group (USA) LLC</td>\n",
       "      <td>4750</td>\n",
       "    </tr>\n",
       "  </tbody>\n",
       "</table>\n",
       "</div>"
      ],
      "text/plain": [
       "   index  Publishing Year                        Book Name  \\\n",
       "0      0           1975.0                          Beowulf   \n",
       "1      1           1987.0                 Batman: Year One   \n",
       "2      2           2015.0                Go Set a Watchman   \n",
       "3      3           2008.0  When You Are Engulfed in Flames   \n",
       "4      4           2011.0         Daughter of Smoke & Bone   \n",
       "\n",
       "                                              Author language_code  \\\n",
       "0                             Unknown, Seamus Heaney         en-US   \n",
       "1  Frank Miller, David Mazzucchelli, Richmond Lew...           eng   \n",
       "2                                         Harper Lee           eng   \n",
       "3                                      David Sedaris         en-US   \n",
       "4                                       Laini Taylor           eng   \n",
       "\n",
       "  Author_Rating  Book_average_rating  Book_ratings_count          genre  \\\n",
       "0        Novice                 3.42              155903  genre fiction   \n",
       "1  Intermediate                 4.23              145267  genre fiction   \n",
       "2        Novice                 3.31              138669  genre fiction   \n",
       "3  Intermediate                 4.04              150898        fiction   \n",
       "4  Intermediate                 4.04              198283  genre fiction   \n",
       "\n",
       "   gross sales  publisher revenue  sale price  sales rank  \\\n",
       "0      34160.0            20496.0        4.88           1   \n",
       "1      12437.5             7462.5        1.99           2   \n",
       "2      47795.0            28677.0        8.69           3   \n",
       "3      41250.0            24750.0        7.50           3   \n",
       "4      37952.5            22771.5        7.99           4   \n",
       "\n",
       "                       Publisher   units sold  \n",
       "0        HarperCollins Publishers        7000  \n",
       "1        HarperCollins Publishers        6250  \n",
       "2  Amazon Digital Services,  Inc.        5500  \n",
       "3             Hachette Book Group        5500  \n",
       "4         Penguin Group (USA) LLC        4750  "
      ]
     },
     "execution_count": 4,
     "metadata": {},
     "output_type": "execute_result"
    }
   ],
   "source": [
    "df.head()"
   ]
  },
  {
   "cell_type": "code",
   "execution_count": 7,
   "id": "8fdd7b6f",
   "metadata": {},
   "outputs": [
    {
     "data": {
      "text/html": [
       "<div>\n",
       "<style scoped>\n",
       "    .dataframe tbody tr th:only-of-type {\n",
       "        vertical-align: middle;\n",
       "    }\n",
       "\n",
       "    .dataframe tbody tr th {\n",
       "        vertical-align: top;\n",
       "    }\n",
       "\n",
       "    .dataframe thead th {\n",
       "        text-align: right;\n",
       "    }\n",
       "</style>\n",
       "<table border=\"1\" class=\"dataframe\">\n",
       "  <thead>\n",
       "    <tr style=\"text-align: right;\">\n",
       "      <th></th>\n",
       "      <th>index</th>\n",
       "      <th>Publishing Year</th>\n",
       "      <th>Book_average_rating</th>\n",
       "      <th>Book_ratings_count</th>\n",
       "      <th>gross sales</th>\n",
       "      <th>publisher revenue</th>\n",
       "      <th>sale price</th>\n",
       "      <th>sales rank</th>\n",
       "      <th>units sold</th>\n",
       "    </tr>\n",
       "  </thead>\n",
       "  <tbody>\n",
       "    <tr>\n",
       "      <th>count</th>\n",
       "      <td>1009.000000</td>\n",
       "      <td>1009.000000</td>\n",
       "      <td>1009.000000</td>\n",
       "      <td>1009.000000</td>\n",
       "      <td>1009.000000</td>\n",
       "      <td>1009.000000</td>\n",
       "      <td>1009.000000</td>\n",
       "      <td>1009.000000</td>\n",
       "      <td>1009.000000</td>\n",
       "    </tr>\n",
       "    <tr>\n",
       "      <th>mean</th>\n",
       "      <td>535.926660</td>\n",
       "      <td>1994.730426</td>\n",
       "      <td>4.012230</td>\n",
       "      <td>94817.793855</td>\n",
       "      <td>1832.644985</td>\n",
       "      <td>841.360638</td>\n",
       "      <td>4.844311</td>\n",
       "      <td>613.314172</td>\n",
       "      <td>9744.482656</td>\n",
       "    </tr>\n",
       "    <tr>\n",
       "      <th>std</th>\n",
       "      <td>308.769358</td>\n",
       "      <td>23.204719</td>\n",
       "      <td>0.246492</td>\n",
       "      <td>31473.890412</td>\n",
       "      <td>3947.885096</td>\n",
       "      <td>2279.579848</td>\n",
       "      <td>3.561712</td>\n",
       "      <td>369.628663</td>\n",
       "      <td>15350.021050</td>\n",
       "    </tr>\n",
       "    <tr>\n",
       "      <th>min</th>\n",
       "      <td>0.000000</td>\n",
       "      <td>1901.000000</td>\n",
       "      <td>2.970000</td>\n",
       "      <td>27308.000000</td>\n",
       "      <td>104.940000</td>\n",
       "      <td>0.000000</td>\n",
       "      <td>0.990000</td>\n",
       "      <td>1.000000</td>\n",
       "      <td>106.000000</td>\n",
       "    </tr>\n",
       "    <tr>\n",
       "      <th>25%</th>\n",
       "      <td>271.000000</td>\n",
       "      <td>1989.000000</td>\n",
       "      <td>3.860000</td>\n",
       "      <td>70701.000000</td>\n",
       "      <td>366.300000</td>\n",
       "      <td>0.000000</td>\n",
       "      <td>1.990000</td>\n",
       "      <td>291.000000</td>\n",
       "      <td>570.000000</td>\n",
       "    </tr>\n",
       "    <tr>\n",
       "      <th>50%</th>\n",
       "      <td>535.000000</td>\n",
       "      <td>2003.000000</td>\n",
       "      <td>4.030000</td>\n",
       "      <td>89204.000000</td>\n",
       "      <td>792.000000</td>\n",
       "      <td>273.240000</td>\n",
       "      <td>3.990000</td>\n",
       "      <td>596.000000</td>\n",
       "      <td>3942.000000</td>\n",
       "    </tr>\n",
       "    <tr>\n",
       "      <th>75%</th>\n",
       "      <td>802.000000</td>\n",
       "      <td>2010.000000</td>\n",
       "      <td>4.180000</td>\n",
       "      <td>113400.000000</td>\n",
       "      <td>1470.260000</td>\n",
       "      <td>714.756000</td>\n",
       "      <td>6.990000</td>\n",
       "      <td>933.000000</td>\n",
       "      <td>5427.000000</td>\n",
       "    </tr>\n",
       "    <tr>\n",
       "      <th>max</th>\n",
       "      <td>1069.000000</td>\n",
       "      <td>2016.000000</td>\n",
       "      <td>4.770000</td>\n",
       "      <td>206792.000000</td>\n",
       "      <td>47795.000000</td>\n",
       "      <td>28677.000000</td>\n",
       "      <td>33.860000</td>\n",
       "      <td>1273.000000</td>\n",
       "      <td>61560.000000</td>\n",
       "    </tr>\n",
       "  </tbody>\n",
       "</table>\n",
       "</div>"
      ],
      "text/plain": [
       "             index  Publishing Year  Book_average_rating  Book_ratings_count  \\\n",
       "count  1009.000000      1009.000000          1009.000000         1009.000000   \n",
       "mean    535.926660      1994.730426             4.012230        94817.793855   \n",
       "std     308.769358        23.204719             0.246492        31473.890412   \n",
       "min       0.000000      1901.000000             2.970000        27308.000000   \n",
       "25%     271.000000      1989.000000             3.860000        70701.000000   \n",
       "50%     535.000000      2003.000000             4.030000        89204.000000   \n",
       "75%     802.000000      2010.000000             4.180000       113400.000000   \n",
       "max    1069.000000      2016.000000             4.770000       206792.000000   \n",
       "\n",
       "        gross sales  publisher revenue   sale price   sales rank    units sold  \n",
       "count   1009.000000        1009.000000  1009.000000  1009.000000   1009.000000  \n",
       "mean    1832.644985         841.360638     4.844311   613.314172   9744.482656  \n",
       "std     3947.885096        2279.579848     3.561712   369.628663  15350.021050  \n",
       "min      104.940000           0.000000     0.990000     1.000000    106.000000  \n",
       "25%      366.300000           0.000000     1.990000   291.000000    570.000000  \n",
       "50%      792.000000         273.240000     3.990000   596.000000   3942.000000  \n",
       "75%     1470.260000         714.756000     6.990000   933.000000   5427.000000  \n",
       "max    47795.000000       28677.000000    33.860000  1273.000000  61560.000000  "
      ]
     },
     "execution_count": 7,
     "metadata": {},
     "output_type": "execute_result"
    }
   ],
   "source": [
    "df.describe()"
   ]
  },
  {
   "cell_type": "code",
   "execution_count": 6,
   "id": "ebd8d2a9",
   "metadata": {},
   "outputs": [],
   "source": [
    "df = df[df['Publishing Year'] > 1900] "
   ]
  },
  {
   "cell_type": "code",
   "execution_count": 12,
   "id": "40a0a5fe",
   "metadata": {},
   "outputs": [
    {
     "data": {
      "text/plain": [
       "index                   0\n",
       "Publishing Year         0\n",
       "Book Name               0\n",
       "Author                  0\n",
       "language_code          47\n",
       "Author_Rating           0\n",
       "Book_average_rating     0\n",
       "Book_ratings_count      0\n",
       "genre                   0\n",
       "gross sales             0\n",
       "publisher revenue       0\n",
       "sale price              0\n",
       "sales rank              0\n",
       "Publisher               0\n",
       "units sold              0\n",
       "dtype: int64"
      ]
     },
     "execution_count": 12,
     "metadata": {},
     "output_type": "execute_result"
    }
   ],
   "source": [
    "df.isna().sum()"
   ]
  },
  {
   "cell_type": "code",
   "execution_count": 11,
   "id": "d5034f9e",
   "metadata": {},
   "outputs": [],
   "source": [
    "df.dropna(subset=\"Book Name\", inplace=True)"
   ]
  },
  {
   "cell_type": "code",
   "execution_count": 13,
   "id": "92f96ff2",
   "metadata": {},
   "outputs": [
    {
     "data": {
      "text/plain": [
       "0"
      ]
     },
     "execution_count": 13,
     "metadata": {},
     "output_type": "execute_result"
    }
   ],
   "source": [
    "df.duplicated().sum()"
   ]
  },
  {
   "cell_type": "code",
   "execution_count": 15,
   "id": "9c49cfb3",
   "metadata": {},
   "outputs": [
    {
     "data": {
      "text/plain": [
       "index                  988\n",
       "Publishing Year        101\n",
       "Book Name              987\n",
       "Author                 669\n",
       "language_code            8\n",
       "Author_Rating            4\n",
       "Book_average_rating    133\n",
       "Book_ratings_count     983\n",
       "genre                    4\n",
       "gross sales            774\n",
       "publisher revenue      570\n",
       "sale price             143\n",
       "sales rank             818\n",
       "Publisher                9\n",
       "units sold             470\n",
       "dtype: int64"
      ]
     },
     "execution_count": 15,
     "metadata": {},
     "output_type": "execute_result"
    }
   ],
   "source": [
    "df.nunique()"
   ]
  },
  {
   "cell_type": "code",
   "execution_count": 18,
   "id": "3e31d6dc",
   "metadata": {},
   "outputs": [
    {
     "data": {
      "image/png": "[encoded data removed]",
      "text/plain": [
       "<Figure size 640x480 with 1 Axes>"
      ]
     },
     "metadata": {},
     "output_type": "display_data"
    }
   ],
   "source": [
    "plt.hist(df[\"Publishing Year\"])\n",
    "plt.xlabel('Publishing Year')\n",
    "plt.ylabel('Number of Books')\n",
    "plt.title('Distribution of Books by Publishing Year')\n",
    "plt.show()"
   ]
  },
  {
   "cell_type": "code",
   "execution_count": 21,
   "id": "c2f40c55",
   "metadata": {},
   "outputs": [
    {
     "data": {
      "image/png": "[encoded data removed]",
      "text/plain": [
       "<Figure size 640x480 with 1 Axes>"
      ]
     },
     "metadata": {},
     "output_type": "display_data"
    }
   ],
   "source": [
    "df[\"genre\"].value_counts().plot(kind='bar')\n",
    "plt.xlabel('Genre')\n",
    "plt.ylabel('Number of Books')\n",
    "plt.title('Distribution of Books by Genre')\n",
    "plt.show()"
   ]
  },
  {
   "cell_type": "code",
   "execution_count": 23,
   "id": "3da41d5b",
   "metadata": {},
   "outputs": [
    {
     "data": {
      "text/plain": [
       "Author\n",
       "Bill Watterson                  4.650000\n",
       "Bill Watterson, G.B. Trudeau    4.610000\n",
       "J.R.R. Tolkien                  4.590000\n",
       "George R.R. Martin              4.560000\n",
       "Sarah J. Maas                   4.526000\n",
       "                                  ...   \n",
       "Chetan Bhagat                   3.273333\n",
       "Audrey Niffenegger              3.230000\n",
       "Herman Koch, Sam Garrett        3.220000\n",
       "P.D. James                      3.210000\n",
       "Sue Monk Kidd                   3.100000\n",
       "Name: Book_average_rating, Length: 669, dtype: float64"
      ]
     },
     "execution_count": 23,
     "metadata": {},
     "output_type": "execute_result"
    }
   ],
   "source": [
    "df.groupby(\"Author\")[\"Book_average_rating\"].mean().sort_values(ascending=False)"
   ]
  },
  {
   "cell_type": "code",
   "execution_count": null,
   "id": "8b8bdebe",
   "metadata": {},
   "outputs": [],
   "source": []
  }
 ],
 "metadata": {
  "kernelspec": {
   "display_name": "base",
   "language": "python",
   "name": "python3"
  },
  "language_info": {
   "codemirror_mode": {
    "name": "ipython",
    "version": 3
   },
   "file_extension": ".py",
   "mimetype": "text/x-python",
   "name": "python",
   "nbconvert_exporter": "python",
   "pygments_lexer": "ipython3",
   "version": "3.12.7"
  }
 },
 "nbformat": 4,
 "nbformat_minor": 5
}
